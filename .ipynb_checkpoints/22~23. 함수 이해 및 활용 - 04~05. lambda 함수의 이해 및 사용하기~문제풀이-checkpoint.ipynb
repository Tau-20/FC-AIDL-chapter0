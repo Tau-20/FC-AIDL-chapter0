{
 "cells": [
  {
   "cell_type": "markdown",
   "metadata": {},
   "source": [
    "\n",
    "\n",
    "### 학습목표\n",
    " 2. Lambda 함수 이해 및 사용"
   ]
  },
  {
   "cell_type": "markdown",
   "metadata": {},
   "source": [
    "* **Lambda 함수**\n",
    " + 심플한 구조의 함수\n",
    " + 단일문으로 표현되는 익명함수\n",
    " + 익명함수란 이름이 없는 구현체만 존재하는 간단한 함수를 의미\n",
    " + 코드 상에서 한번만 사용되는 기능이 있을 때, 굳이 함수로 만들지 않고 1회성으로 만들어서 쓸 때 사용."
   ]
  },
  {
   "cell_type": "code",
   "execution_count": 2,
   "metadata": {},
   "outputs": [
    {
     "data": {
      "text/plain": [
       "25"
      ]
     },
     "execution_count": 2,
     "metadata": {},
     "output_type": "execute_result"
    }
   ],
   "source": [
    "def square2(x):\n",
    "    return x**2\n",
    "\n",
    "square2(5)"
   ]
  },
  {
   "cell_type": "code",
   "execution_count": 3,
   "metadata": {},
   "outputs": [
    {
     "data": {
      "text/plain": [
       "25"
      ]
     },
     "execution_count": 3,
     "metadata": {},
     "output_type": "execute_result"
    }
   ],
   "source": [
    "square =lambda x:x**2 #변수:반환값 의 형태를 가지게 된다. return 사용 안 함.\n",
    "square(5)"
   ]
  },
  {
   "cell_type": "code",
   "execution_count": 4,
   "metadata": {},
   "outputs": [
    {
     "data": {
      "text/plain": [
       "30"
      ]
     },
     "execution_count": 4,
     "metadata": {},
     "output_type": "execute_result"
    }
   ],
   "source": [
    "def add(x,y):\n",
    "    return x + y\n",
    "\n",
    "add2 = lambda x,y:x+y\n",
    "add2(10,20)"
   ]
  },
  {
   "cell_type": "code",
   "execution_count": 6,
   "metadata": {},
   "outputs": [
    {
     "name": "stdout",
     "output_type": "stream",
     "text": [
      "['alexander', 'bob', 'charles', 'teddy']\n"
     ]
    }
   ],
   "source": [
    "strings = ['bob', 'charles', 'alexander','teddy']\n",
    "strings.sort() #기본적으로는 알파벳 순서대로 정렬\n",
    "\n",
    "print(strings)"
   ]
  },
  {
   "cell_type": "code",
   "execution_count": 7,
   "metadata": {},
   "outputs": [
    {
     "data": {
      "text/plain": [
       "5"
      ]
     },
     "execution_count": 7,
     "metadata": {},
     "output_type": "execute_result"
    }
   ],
   "source": [
    "def str_len(s):\n",
    "    return len(s)\n",
    "\n",
    "str_len('Hello')"
   ]
  },
  {
   "cell_type": "code",
   "execution_count": 9,
   "metadata": {},
   "outputs": [
    {
     "name": "stdout",
     "output_type": "stream",
     "text": [
      "['bob', 'teddy', 'charles', 'alexander']\n"
     ]
    }
   ],
   "source": [
    "strings = ['bob', 'charles', 'alexander','teddy']\n",
    "strings.sort(key=str_len) #함수를 이용해서 자신이 원하는 대로 정렬이 가능하다.\n",
    "\n",
    "#한 번 밖에 사용되지 않는 함수를 정의하는 것이 비효율 적일 경우 lambda 함수를 이용한다.\n",
    "\n",
    "print(strings)"
   ]
  },
  {
   "cell_type": "code",
   "execution_count": 10,
   "metadata": {},
   "outputs": [
    {
     "name": "stdout",
     "output_type": "stream",
     "text": [
      "['bob', 'teddy', 'charles', 'alexander']\n"
     ]
    }
   ],
   "source": [
    "strings = ['bob', 'charles', 'alexander','teddy']\n",
    "strings.sort(key=lambda s:len(s))\n",
    "\n",
    "print(strings)"
   ]
  },
  {
   "cell_type": "markdown",
   "metadata": {},
   "source": [
    "#### **filter, map, reduce**\n",
    " + lambda가 유용하게 사용되는 3가지 대표적 함수\n",
    " + 함수형 프로그래밍의 기본 요소이기도 함\n",
    " + filter : 특정 조건을 만족하는 요소만 남기고 필터링\n",
    " + map    : 각 원소를 주어진 수식에 따라 변형하여 새로운 리스트를 반환\n",
    " + reduce : 차례대로 앞 2개의 원소를 가지고 연산. 연산의 결과가 또 다음 연산의 입력으로 진행됨. 따라서 마지막까지 진행되면 최종 출력은 한개의 값만 남게 됨"
   ]
  },
  {
   "cell_type": "code",
   "execution_count": 1,
   "metadata": {},
   "outputs": [
    {
     "data": {
      "text/plain": [
       "True"
      ]
     },
     "execution_count": 1,
     "metadata": {},
     "output_type": "execute_result"
    }
   ],
   "source": [
    "def even(n):\n",
    "    return n % 2 == 0\n",
    "\n",
    "even(2)"
   ]
  },
  {
   "cell_type": "code",
   "execution_count": 5,
   "metadata": {},
   "outputs": [
    {
     "data": {
      "text/plain": [
       "[2, 6, 8, 10]"
      ]
     },
     "execution_count": 5,
     "metadata": {},
     "output_type": "execute_result"
    }
   ],
   "source": [
    "#filter(함수, 리스트) : 리스트를 함수 조건에 따라 필터링 \n",
    "nums = [1, 2, 3, 6, 8, 9, 10, 11, 13, 15]\n",
    "\n",
    "list(filter(even, nums)) #짝수 값을 갖는 리스트로 필터링 되었다."
   ]
  },
  {
   "cell_type": "code",
   "execution_count": 6,
   "metadata": {},
   "outputs": [
    {
     "data": {
      "text/plain": [
       "[2, 6, 8, 10]"
      ]
     },
     "execution_count": 6,
     "metadata": {},
     "output_type": "execute_result"
    }
   ],
   "source": [
    "#lambda 함수의 형태로 나타낼 경우\n",
    "nums = [1, 2, 3, 6, 8, 9, 10, 11, 13, 15]\n",
    "\n",
    "list(filter(lambda n:n%2==0, nums))"
   ]
  },
  {
   "cell_type": "code",
   "execution_count": 8,
   "metadata": {},
   "outputs": [
    {
     "data": {
      "text/plain": [
       "[1, 4, 9, 36, 64, 81, 100, 121, 169, 225]"
      ]
     },
     "execution_count": 8,
     "metadata": {},
     "output_type": "execute_result"
    }
   ],
   "source": [
    "#map(함수, 리스트) : 리스트를 매핑시켜서 또다른 리스트를 만든다.\n",
    "#ex. 주어진 리스트의 제곱을 한 숫자로 새로운 리스트를 만드는 경우\n",
    "\n",
    "nums = [1, 2, 3, 6, 8, 9, 10, 11, 13, 15]\n",
    "list(map(lambda n:n**2, nums))"
   ]
  },
  {
   "cell_type": "code",
   "execution_count": 11,
   "metadata": {},
   "outputs": [
    {
     "name": "stdout",
     "output_type": "stream",
     "text": [
      "17\n",
      "120\n"
     ]
    }
   ],
   "source": [
    "import functools\n",
    "#functools.reduce(함수, 리스트) : 순차적으로 리스트 내의 값들을 함수로 연산하여 최종 한 개의 값만을 반환\n",
    "\n",
    "a = [1, 3, 5, 8]\n",
    "#리스트 내부의 모든 숫자의 합\n",
    "\n",
    "print(functools.reduce(lambda x,y:x+y, a))\n",
    "print(functools.reduce(lambda x,y:x*y, a))"
   ]
  },
  {
   "cell_type": "markdown",
   "metadata": {},
   "source": [
    "\n",
    "#### 함수 연습문제\n",
    " 1. 주어진 숫자 리스트의 평균을 구하는 함수를 출력하시오\n",
    " 1. 해당 숫자가 소수인지 아닌지 판별하시오.\n",
    " 2. 2부터 해당 숫자사이에 소수가 몇개인지 출력하는 함수를 구하시오 "
   ]
  },
  {
   "cell_type": "markdown",
   "metadata": {},
   "source": [
    "# 1번"
   ]
  },
  {
   "cell_type": "code",
   "execution_count": 14,
   "metadata": {},
   "outputs": [
    {
     "name": "stdout",
     "output_type": "stream",
     "text": [
      "5.0\n"
     ]
    }
   ],
   "source": [
    "def average(lst):\n",
    "    return sum(lst)/len(lst)\n",
    "\n",
    "lst_1 = [0, 1, 2, 3, 4, 5, 6, 7, 8, 9, 10]\n",
    "print(average(lst_1))"
   ]
  },
  {
   "cell_type": "markdown",
   "metadata": {},
   "source": [
    "# 1번 - Solution"
   ]
  },
  {
   "cell_type": "code",
   "execution_count": 36,
   "metadata": {},
   "outputs": [
    {
     "name": "stdout",
     "output_type": "stream",
     "text": [
      "2.0\n",
      "5.0\n",
      "3.0\n",
      "3.72\n"
     ]
    }
   ],
   "source": [
    "# 입력 : 숫자 리스트\n",
    "# 출력 : 숫자 리스트의 평균값\n",
    "\n",
    "def mean(nums):\n",
    "    _sum = 0\n",
    "    for i in nums:\n",
    "        _sum += i\n",
    "        \n",
    "    return _sum / len(nums)\n",
    "\n",
    "print(mean([1, 2, 3]))\n",
    "print(mean([0, 1, 2, 3, 4, 5, 6, 7, 8, 9, 10]))\n",
    "print(mean([1, 2, 3, 4, 5]))\n",
    "print(mean([1, 2, 3.0, 3.9, 8.7]))"
   ]
  },
  {
   "cell_type": "markdown",
   "metadata": {},
   "source": [
    "# 2번"
   ]
  },
  {
   "cell_type": "code",
   "execution_count": 38,
   "metadata": {},
   "outputs": [
    {
     "name": "stdout",
     "output_type": "stream",
     "text": [
      "True\n"
     ]
    }
   ],
   "source": [
    "def prime(number):\n",
    "    half = int(number/2)\n",
    "    for i in range(2, half+1):\n",
    "        if number % i == 0:\n",
    "            return (False)\n",
    "    \n",
    "    return(True)\n",
    "    \n",
    "print(decimal(23))"
   ]
  },
  {
   "cell_type": "markdown",
   "metadata": {},
   "source": [
    "# 2번 - Solution"
   ]
  },
  {
   "cell_type": "code",
   "execution_count": 43,
   "metadata": {},
   "outputs": [
    {
     "name": "stdout",
     "output_type": "stream",
     "text": [
      "False\n",
      "True\n",
      "True\n"
     ]
    }
   ],
   "source": [
    "# 소수 판별 (1과 자기자신으로만 나눠지는 수)\n",
    "# 입력 : 양의 정수 1개\n",
    "# 출력 : boolean (소수 : True, 합성수 : False)\n",
    "\n",
    "def is_prime(num):\n",
    "    for i in range(2, num):\n",
    "        if num % i == 0:\n",
    "            return False\n",
    "    return True\n",
    "\n",
    "print(is_prime(200))\n",
    "print(is_prime(97))\n",
    "print(is_prime(17))"
   ]
  },
  {
   "cell_type": "markdown",
   "metadata": {},
   "source": [
    "# 3번"
   ]
  },
  {
   "cell_type": "code",
   "execution_count": 45,
   "metadata": {},
   "outputs": [
    {
     "name": "stdout",
     "output_type": "stream",
     "text": [
      "25\n"
     ]
    }
   ],
   "source": [
    "def count_primel(number):\n",
    "    lst =  range(2, number)\n",
    "    prime_lst = list(filter(prime, lst))\n",
    "    return (len(prime_lst), prime_lst)\n",
    "\n",
    "print(count_decimal(100)[0])"
   ]
  },
  {
   "cell_type": "code",
   "execution_count": 46,
   "metadata": {},
   "outputs": [
    {
     "name": "stdout",
     "output_type": "stream",
     "text": [
      "[2, 3, 5, 7, 11, 13, 17, 19, 23, 29, 31, 37, 41, 43, 47, 53, 59, 61, 67, 71, 73, 79, 83, 89, 97]\n"
     ]
    }
   ],
   "source": [
    "print(count_decimal(100)[1])"
   ]
  },
  {
   "cell_type": "markdown",
   "metadata": {},
   "source": [
    "# 3번 - Solution"
   ]
  },
  {
   "cell_type": "code",
   "execution_count": 47,
   "metadata": {},
   "outputs": [
    {
     "name": "stdout",
     "output_type": "stream",
     "text": [
      "4\n",
      "3\n",
      "25\n"
     ]
    }
   ],
   "source": [
    "# 입력 : 양의 정수 1개\n",
    "# 출력 : 2부터 해당 숫자 사이의 소수의 개수\n",
    "\n",
    "def num_prime(num):\n",
    "    count = 0\n",
    "    for i in range(2, num+1):\n",
    "        if is_prime(i):\n",
    "            count += 1\n",
    "    return count\n",
    "\n",
    "print(num_prime(7))\n",
    "print(num_prime(5))\n",
    "print(num_prime(100))"
   ]
  }
 ],
 "metadata": {
  "kernelspec": {
   "display_name": "Python 3",
   "language": "python",
   "name": "python3"
  },
  "language_info": {
   "codemirror_mode": {
    "name": "ipython",
    "version": 3
   },
   "file_extension": ".py",
   "mimetype": "text/x-python",
   "name": "python",
   "nbconvert_exporter": "python",
   "pygments_lexer": "ipython3",
   "version": "3.7.6"
  }
 },
 "nbformat": 4,
 "nbformat_minor": 1
}
